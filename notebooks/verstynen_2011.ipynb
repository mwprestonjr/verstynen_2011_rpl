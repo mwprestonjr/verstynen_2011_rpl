{
 "cells": [
  {
   "cell_type": "code",
   "execution_count": null,
   "metadata": {},
   "outputs": [],
   "source": []
  },
  {
   "cell_type": "code",
   "execution_count": null,
   "metadata": {},
   "outputs": [],
   "source": []
  },
  {
   "cell_type": "markdown",
   "metadata": {},
   "source": [
    "The network consists of a single layer of 180 neurons that receive activation from both exogenous inputs and lateral connections."
   ]
  },
  {
   "cell_type": "markdown",
   "metadata": {},
   "source": [
    "### Input activation\n",
    "#### equation (7)\n",
    "\n",
    "On simulated trial *n*, the mean input activation to neuron *i* is a function of the difference between the target location *$\\theta(n)$* and the preferred direction of the neuron *$\\theta_i^*$*"
   ]
  },
  {
   "cell_type": "code",
   "execution_count": null,
   "metadata": {},
   "outputs": [],
   "source": [
    "# I_i: I_i(n); mean activation of unit i\n",
    "# I_0 baseline input rate\n",
    "# gamma: input gain\n",
    "# theta: theta(n); current input \n",
    "# theta_star_i: prefered direction of unit i\n",
    "# w: spread of input activation (full-width-half-magnitude)\n",
    "\n",
    "gamma = ???\n",
    "w = ???\n",
    "\n",
    "I_i = I_0 + gamma * np.exp(-np.log(2)((theta-theta_star_i) / (w/2)))**2\n"
   ]
  },
  {
   "cell_type": "markdown",
   "metadata": {},
   "source": [
    "### Trial iteration\n",
    "#### equation (8)\n",
    "\n",
    "For network simulations, the dynamics of the network were iterated five times for each trial.\n",
    "\n",
    "[*I think we can consider leaving this iteration detail out to begin with. This will also simplify equations 10 and 11]"
   ]
  },
  {
   "cell_type": "markdown",
   "metadata": {},
   "source": [
    "### Lateral connection strength\n",
    "#### equation (9)\n",
    "\n",
    "The initial connection strength between a pair of units is determined by the distance between the units’ preferred directions in the circular space (preferred directions were evenly spaced at delta = 2 degrees)"
   ]
  },
  {
   "cell_type": "code",
   "execution_count": null,
   "metadata": {},
   "outputs": [],
   "source": [
    "# theta_star_i: prefered direction of unit i\n",
    "# theta_star_i: prefered direction of unit j\n",
    "# w_L: WFHM\n",
    "\n",
    "w+L = ???\n",
    "\n",
    "W_ij = np.exp(-np.log(2)((theta_star_i-theta_star_j) / (w_L/2))**2)"
   ]
  },
  {
   "cell_type": "markdown",
   "metadata": {},
   "source": [
    "### Total Activation\n",
    "#### equation (10) and equation (11)\n",
    "\n",
    "On each iteration *t*, the total activation for unit *i* was then computed as the sum of the input and recurrent activations: equation (10)\n",
    "Total activation was normalized on each iteration to obtain the new firing rates: equation(11)\n",
    "\n",
    "[*as noted before, I will begin without the iteration process]"
   ]
  },
  {
   "cell_type": "code",
   "execution_count": null,
   "metadata": {},
   "outputs": [],
   "source": [
    "# X_i: new firing rate for unit i\n",
    "\n",
    "# input activation\n",
    "#    I_i: equation (7)\n",
    "# recurant acivation\n",
    "#    W_ij: synaptic weights; initially set with equation (9) and updated with equation (12)\n",
    "#    X: firing rate of neighboring neurons on previous trial (initial rates = 0)\n",
    "\n",
    "X_i = I_i + W_ij .* X"
   ]
  },
  {
   "cell_type": "code",
   "execution_count": null,
   "metadata": {},
   "outputs": [],
   "source": []
  },
  {
   "cell_type": "markdown",
   "metadata": {},
   "source": [
    "### Hebbian learning rule\n",
    "#### equation (12) \n",
    "\n",
    "After each iteration, the recurrent weights Wij were updated using a\n",
    "normalized Hebbian learning rule [(Oja, 1982)](https://link.springer.com/article/10.1007/BF00275687)"
   ]
  },
  {
   "cell_type": "code",
   "execution_count": null,
   "metadata": {},
   "outputs": [],
   "source": [
    "# B: learning rate\n",
    "# a: normalization parameter\n",
    "# W_ij: synaptic weights\n",
    "# W_ij_t1: W_ij,t+1; updated weight\n",
    "\n",
    "B = ???\n",
    "a = ???\n",
    "\n",
    "W_ij_t1 = W_ij + B()"
   ]
  },
  {
   "cell_type": "code",
   "execution_count": null,
   "metadata": {},
   "outputs": [],
   "source": []
  },
  {
   "cell_type": "markdown",
   "metadata": {},
   "source": [
    "### Estimated Movement Vector\n",
    "#### equation (13) \n",
    "\n",
    "[Georgopoulos, 1988](https://www.jneurosci.org/content/8/8/2928)"
   ]
  },
  {
   "cell_type": "code",
   "execution_count": null,
   "metadata": {},
   "outputs": [],
   "source": [
    "theta_mv = np.arctan(np.sum(np.cos(theta_star_i .- np.sin(theta_star_i))))"
   ]
  },
  {
   "cell_type": "code",
   "execution_count": null,
   "metadata": {},
   "outputs": [],
   "source": []
  },
  {
   "cell_type": "code",
   "execution_count": null,
   "metadata": {},
   "outputs": [],
   "source": []
  },
  {
   "cell_type": "code",
   "execution_count": null,
   "metadata": {},
   "outputs": [],
   "source": []
  }
 ],
 "metadata": {
  "kernelspec": {
   "display_name": "Python 3",
   "language": "python",
   "name": "python3"
  },
  "language_info": {
   "codemirror_mode": {
    "name": "ipython",
    "version": 3
   },
   "file_extension": ".py",
   "mimetype": "text/x-python",
   "name": "python",
   "nbconvert_exporter": "python",
   "pygments_lexer": "ipython3",
   "version": "3.8.3"
  }
 },
 "nbformat": 4,
 "nbformat_minor": 4
}
